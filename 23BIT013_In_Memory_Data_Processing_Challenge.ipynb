{
  "nbformat": 4,
  "nbformat_minor": 0,
  "metadata": {
    "colab": {
      "provenance": [],
      "authorship_tag": "ABX9TyPEgufC4S5gCUTz/UL+ObSw",
      "include_colab_link": true
    },
    "kernelspec": {
      "name": "python3",
      "display_name": "Python 3"
    },
    "language_info": {
      "name": "python"
    }
  },
  "cells": [
    {
      "cell_type": "markdown",
      "metadata": {
        "id": "view-in-github",
        "colab_type": "text"
      },
      "source": [
        "<a href=\"https://colab.research.google.com/github/Danushika06/Dpt/blob/main/23BIT013_In_Memory_Data_Processing_Challenge.ipynb\" target=\"_parent\"><img src=\"https://colab.research.google.com/assets/colab-badge.svg\" alt=\"Open In Colab\"/></a>"
      ]
    },
    {
      "cell_type": "code",
      "execution_count": null,
      "metadata": {
        "colab": {
          "base_uri": "https://localhost:8080/"
        },
        "id": "IWLMAac5Dwa5",
        "outputId": "07dc8316-aa54-451d-c0e0-30c05b5fed0f"
      },
      "outputs": [
        {
          "output_type": "stream",
          "name": "stdout",
          "text": [
            "✅ Spark session created\n",
            "✅ Synthetic dataset created with 1,000,000 rows\n",
            "✅ Spark DataFrame created\n",
            "+--------+------------------+-------------------+\n",
            "|category|        avg_amount|       total_amount|\n",
            "+--------+------------------+-------------------+\n",
            "|       B|252.66972962580155|6.308000867999986E7|\n",
            "|       D|252.09951488039036|6.294697996999955E7|\n",
            "|       C|252.23079039756232|6.293662681999975E7|\n",
            "|       A|252.85554263642595|6.350087669999883E7|\n",
            "+--------+------------------+-------------------+\n",
            "\n",
            "⏱ Execution time without cache: 13.11 seconds\n",
            "✅ DataFrame cached in memory\n",
            "+--------+------------------+-------------------+\n",
            "|category|        avg_amount|       total_amount|\n",
            "+--------+------------------+-------------------+\n",
            "|       B|252.66972962580155|6.308000867999986E7|\n",
            "|       D|252.09951488039036|6.294697996999955E7|\n",
            "|       C|252.23079039756232|6.293662681999975E7|\n",
            "|       A|252.85554263642595|6.350087669999883E7|\n",
            "+--------+------------------+-------------------+\n",
            "\n",
            "⏱ Execution time with cache: 2.79 seconds\n",
            "+-----------+-----------------+\n",
            "|customer_id|     total_amount|\n",
            "+-----------+-----------------+\n",
            "|      89789|6949.329999999998|\n",
            "|      91821|6915.889999999999|\n",
            "|      10196|6912.339999999999|\n",
            "|      99549|6816.380000000001|\n",
            "|      15332|6649.800000000001|\n",
            "+-----------+-----------------+\n",
            "only showing top 5 rows\n",
            "\n",
            "⏱ Execution time for top customers query: 2.74 seconds\n",
            "✅ Spark session stopped\n"
          ]
        }
      ],
      "source": [
        "import pandas as pd\n",
        "import random\n",
        "import time\n",
        "from pyspark.sql import SparkSession\n",
        "from pyspark.sql import functions as F\n",
        "from pyspark import StorageLevel\n",
        "\n",
        "# ---------------------- Step 1: Initialize Spark ----------------------\n",
        "spark = (\n",
        "    SparkSession.builder\n",
        "    .appName(\"InMemoryDataProcessing-Refactor\")\n",
        "    .master(\"local[*]\")\n",
        "    .getOrCreate()\n",
        ")\n",
        "spark.sparkContext.setLogLevel(\"WARN\")\n",
        "print(\"✅ Spark session created\")\n",
        "\n",
        "# ---------------------- Step 2: Generate large dataset ----------------------\n",
        "# Seeded RNG for reproducibility (does not change the structure/output shape)\n",
        "rng = random.Random(42)\n",
        "\n",
        "N = 1_000_000  # 1 million rows\n",
        "data = pd.DataFrame({\n",
        "    \"customer_id\": [rng.randint(1, 100000) for _ in range(N)],\n",
        "    \"transaction_amount\": [round(rng.uniform(5, 500), 2) for _ in range(N)],\n",
        "    \"category\": [rng.choice([\"A\", \"B\", \"C\", \"D\"]) for _ in range(N)],\n",
        "    \"age\": [rng.randint(18, 70) for _ in range(N)]\n",
        "})\n",
        "print(\"✅ Synthetic dataset created with 1,000,000 rows\")\n",
        "\n",
        "# ---------------------- Step 3: Create Spark DataFrame ----------------------\n",
        "df = spark.createDataFrame(data)\n",
        "print(\"✅ Spark DataFrame created\")\n",
        "\n",
        "# ---------------------- Step 4: Analytical query without caching ----------------------\n",
        "start = time.perf_counter()\n",
        "result1 = (\n",
        "    df.groupBy(\"category\")\n",
        "      .agg(\n",
        "          F.avg(\"transaction_amount\").alias(\"avg_amount\"),\n",
        "          F.sum(\"transaction_amount\").alias(\"total_amount\")\n",
        "      )\n",
        ")\n",
        "result1.show(5)\n",
        "end = time.perf_counter()\n",
        "print(f\"⏱ Execution time without cache: {end - start:.2f} seconds\")\n",
        "\n",
        "# ---------------------- Step 5: Cache DataFrame in memory ----------------------\n",
        "df.persist(StorageLevel.MEMORY_ONLY)  # same effect as cache() for this case\n",
        "df.count()  # Trigger caching\n",
        "print(\"✅ DataFrame cached in memory\")\n",
        "\n",
        "# ---------------------- Step 6: Analytical query with caching ----------------------\n",
        "start = time.perf_counter()\n",
        "result2 = (\n",
        "    df.groupBy(\"category\")\n",
        "      .agg(\n",
        "          F.avg(\"transaction_amount\").alias(\"avg_amount\"),\n",
        "          F.sum(\"transaction_amount\").alias(\"total_amount\")\n",
        "      )\n",
        ")\n",
        "result2.show(5)\n",
        "end = time.perf_counter()\n",
        "print(f\"⏱ Execution time with cache: {end - start:.2f} seconds\")\n",
        "\n",
        "# ---------------------- Step 7: Optional - Additional real-time analysis ----------------------\n",
        "# Example: top 5 customers by transaction amount\n",
        "start = time.perf_counter()\n",
        "top_customers = (\n",
        "    df.groupBy(\"customer_id\")\n",
        "      .agg(F.sum(\"transaction_amount\").alias(\"total_amount\"))\n",
        "      .orderBy(F.col(\"total_amount\").desc())\n",
        ")\n",
        "top_customers.show(5)\n",
        "end = time.perf_counter()\n",
        "print(f\"⏱ Execution time for top customers query: {end - start:.2f} seconds\")\n",
        "\n",
        "# ---------------------- Step 8: Stop Spark ----------------------\n",
        "spark.stop()\n",
        "print(\"✅ Spark session stopped\")\n"
      ]
    }
  ]
}